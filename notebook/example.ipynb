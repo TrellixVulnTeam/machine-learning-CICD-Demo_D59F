{
 "cells": [
  {
   "cell_type": "code",
   "execution_count": 2,
   "id": "891717ca",
   "metadata": {},
   "outputs": [],
   "source": [
    "from collections import namedtuple"
   ]
  },
  {
   "cell_type": "code",
   "execution_count": null,
   "id": "f1051ad2",
   "metadata": {},
   "outputs": [],
   "source": [
    "DataIntegrationConfig=namedtuple(\"DataIntegrationCongif\",[\"dataset_download_url\",\"tgz_download_dir\",\"raw_data_dir\",\"ingested_train_dir\"\n",
    "                                                         ,\"ingested_test_dir\"])"
   ]
  }
 ],
 "metadata": {
  "kernelspec": {
   "display_name": "Python 3 (ipykernel)",
   "language": "python",
   "name": "python3"
  },
  "language_info": {
   "codemirror_mode": {
    "name": "ipython",
    "version": 3
   },
   "file_extension": ".py",
   "mimetype": "text/x-python",
   "name": "python",
   "nbconvert_exporter": "python",
   "pygments_lexer": "ipython3",
   "version": "3.9.7"
  }
 },
 "nbformat": 4,
 "nbformat_minor": 5
}
